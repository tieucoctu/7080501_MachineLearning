{
 "cells": [
  {
   "attachments": {},
   "cell_type": "markdown",
   "metadata": {
    "id": "vBBD9wNIHyp7"
   },
   "source": [
    "<h2 align='center'> MÔN HỌC: KỸ NGHỆ TRI THỨC VÀ HỌC MÁY (7080510) </h2>\n",
    "\n",
    "---\n",
    "* Giảng viên: Đặng Văn Nam\n",
    "* Email: dangvannam@humg.edu.n\n",
    "---\n",
    "\n",
    "### CHƯƠNG 5: HỆ THỐNG GỢI Ý (RECOMMENDER SYSTEMS)\n",
    "---\n",
    "**NỘI DUNG BÀI HỌC:**\n",
    "1. Giới thiệu chung\n",
    "2. Phân loại hệ thống đề xuất\n",
    "3. Các phương pháp tính toán độ tương đồng\n",
    "4. Sơ đồ tổng quan và Thách thức\n",
    "5. Ví dụ minh họa\n",
    "---\n",
    "dangvannam@Department of Computer Science@2020"
   ]
  },
  {
   "cell_type": "markdown",
   "metadata": {},
   "source": [
    "---\n",
    "### 5. VÍ DỤ HỆ THỐNG GỢI Ý MOVIES\n",
    "Dự án này sẽ xây dựng một hệ thống đề xuất dựa trên tập dữ liệu Movies.\n",
    "\n",
    "<img src='Pic/pic1.png'>\n",
    "\n",
    "Dựa vào dữ liệu của trên 12 182 bộ films, xây dựng hệ thống đề xuất đưa ra danh sách 15 bộ film liên quan. Có hai loại Recommender system được xây dựng trong project này:\n",
    "\n",
    "\n",
    "*   Simple Recommender\n",
    "*   Content-Based Recommender\n",
    "\n",
    "Các file dữ liệu sử dụng bao gồm:\n",
    "\n",
    "**Data_Movies.csv:** File này chứa thông tin tổng hợp của ~ 12 000 bộ film, mỗi bộ film có 24 thuộc tính khác nhau, một số thuộc tính chính bao gồm:\n",
    "\n",
    "1. adult: Bộ film dành cho người lớn hay không. Dữ liệu boolean (True - Flase)\n",
    "2. original_language: Ngôn ngữ ban đầu; dữ liệu categorical\n",
    "3. genres: Thể loại film\n",
    "4. original_title: Tiêu đề của film, dữ liệu text\n",
    "5. overview: Tóm tắt nội dung của film; Dữ liệu text\n",
    "6. release_date: Ngày phát hành films\n",
    "7. vote_average: Tỷ lệ vote trung bình [0-10]\n",
    "8. vote_count: Số lượt vote"
   ]
  },
  {
   "cell_type": "markdown",
   "metadata": {
    "id": "0WVHxEbMLjw7"
   },
   "source": [
    "## I) Đọc tập dữ liệu Movie\n",
    "---"
   ]
  },
  {
   "cell_type": "code",
   "execution_count": null,
   "metadata": {
    "colab": {
     "base_uri": "https://localhost:8080/"
    },
    "id": "Agee35H2JZg0",
    "outputId": "866a7dd6-0130-4019-e4c1-44a3d792dec0"
   },
   "outputs": [],
   "source": [
    "import pandas as pd\n",
    "import warnings\n",
    "warnings.filterwarnings('ignore')\n",
    "\n",
    "#Đọc tập dữ liệu thông tin của các film\n",
    "path='data\\Data_Movies.csv'\n",
    "data_movies = pd.read_csv(path)\n",
    "\n",
    "#Hiển thị thông tin tập dữ liệu\n",
    "data_movies.info()"
   ]
  },
  {
   "cell_type": "code",
   "execution_count": null,
   "metadata": {
    "colab": {
     "base_uri": "https://localhost:8080/",
     "height": 666
    },
    "id": "De82EJthJrEM",
    "outputId": "e5e96513-60a4-459d-df6a-2882b4426d93"
   },
   "outputs": [],
   "source": [
    "#Hiển thị dữ liệu 5 dòng đầu tiên\n",
    "data_movies.head()"
   ]
  },
  {
   "cell_type": "markdown",
   "metadata": {
    "id": "eJFNsjDQ6G-5"
   },
   "source": [
    "**Lọc dữ liệu thô ban đầu chỉ lấy các cột quan trọng sử dụng để xây dựng hệ thống gợi ý:**\n",
    "* adult: Bộ film dành cho người lớn hay không. Dữ liệu boolean (True - Flase)\n",
    "* original_language: Ngôn ngữ ban đầu; dữ liệu categorical\n",
    "* original_title: Tiêu đề của film, dữ liệu text\n",
    "* overview: Tóm tắt nội dung của film; Dữ liệu text\n",
    "* release_date: Ngày phát hành film\n",
    "* vote_average: Tỷ lệ vote trung bình [0-10]\n",
    "* vote_count: Số lượt vote"
   ]
  },
  {
   "cell_type": "code",
   "execution_count": null,
   "metadata": {
    "colab": {
     "base_uri": "https://localhost:8080/"
    },
    "id": "H4lQuUW_57qq",
    "outputId": "ef2b6308-f6d9-49fe-8509-057f98c8c0a6"
   },
   "outputs": [],
   "source": [
    "data = data_movies.loc[:,['adult',\n",
    "                          'original_title',\n",
    "                          'overview',\n",
    "                          'release_date',\n",
    "                          'vote_average',\n",
    "                          'vote_count']].copy()\n",
    "data.info()"
   ]
  },
  {
   "cell_type": "code",
   "execution_count": null,
   "metadata": {},
   "outputs": [],
   "source": [
    "data.head()"
   ]
  },
  {
   "cell_type": "code",
   "execution_count": null,
   "metadata": {
    "colab": {
     "base_uri": "https://localhost:8080/",
     "height": 297
    },
    "id": "wiE7pLPiJ1R1",
    "outputId": "16615b25-e78e-4f2a-8940-53134a83c728"
   },
   "outputs": [],
   "source": [
    "#Đặc trưng thống kê các thuôc tính số\n",
    "data.describe()"
   ]
  },
  {
   "cell_type": "code",
   "execution_count": null,
   "metadata": {
    "colab": {
     "base_uri": "https://localhost:8080/",
     "height": 173
    },
    "id": "9vntmqMANsae",
    "outputId": "49025477-f37f-4603-8e2c-3727a7c2c186"
   },
   "outputs": [],
   "source": [
    "#Đặc trưng thống kê dữ liệu Object\n",
    "data.describe(include=['O'])"
   ]
  },
  {
   "cell_type": "code",
   "execution_count": null,
   "metadata": {},
   "outputs": [],
   "source": [
    "data[data.overview=='No overview found.']"
   ]
  },
  {
   "cell_type": "markdown",
   "metadata": {
    "id": "0Ew3T6ZIZVWs"
   },
   "source": [
    "# **2) Tiền xử lý dữ liệu tập Movies**\n",
    "---"
   ]
  },
  {
   "cell_type": "markdown",
   "metadata": {
    "id": "3dBFzSbb9rHM"
   },
   "source": [
    "## **2.1) Chuẩn hóa dữ liệu:**\n",
    "---\n",
    "* Kiểm tra dữ liệu null của các thuộc tính\n",
    "* Loại bỏ các bộ film có thuộc tín null\n",
    "* Sắp xếp lại các bộ film theo ngày phát hành"
   ]
  },
  {
   "cell_type": "code",
   "execution_count": null,
   "metadata": {
    "colab": {
     "base_uri": "https://localhost:8080/"
    },
    "id": "ceRi0y6m9qtV",
    "outputId": "08c22543-06d8-4098-d1bf-daf33de2c716"
   },
   "outputs": [],
   "source": [
    "#Thống kê số liệu missing trong Data frame\n",
    "#Theo từng cột\n",
    "print('Số lượng missing data trong file dữ liệu:')\n",
    "print(data.isnull().sum())"
   ]
  },
  {
   "cell_type": "code",
   "execution_count": null,
   "metadata": {
    "colab": {
     "base_uri": "https://localhost:8080/"
    },
    "id": "Rtca35At-rau",
    "outputId": "003c578b-8b95-4c60-fd83-6e7fe6eaf6f8"
   },
   "outputs": [],
   "source": [
    "#Xóa tất cả các bộ film có chứ thuộc tính null\n",
    "data.dropna(axis=0,how='any',inplace=True)\n",
    "data.info()"
   ]
  },
  {
   "cell_type": "code",
   "execution_count": null,
   "metadata": {
    "colab": {
     "base_uri": "https://localhost:8080/",
     "height": 204
    },
    "id": "pdR6J3KKYAQQ",
    "outputId": "f1aaf46c-901b-4031-a864-d0cc7ddb9bfe"
   },
   "outputs": [],
   "source": [
    "#Sắp xếp lại dữ liệu theo ngày phát hành\n",
    "data.sort_values('release_date',axis=0,inplace=True)\n",
    "data.head()"
   ]
  },
  {
   "cell_type": "code",
   "execution_count": null,
   "metadata": {
    "colab": {
     "base_uri": "https://localhost:8080/",
     "height": 204
    },
    "id": "wrC3yoaPYXhU",
    "outputId": "6030c8b8-26b8-4505-c028-f77b40a57af5"
   },
   "outputs": [],
   "source": [
    "data.tail()"
   ]
  },
  {
   "cell_type": "markdown",
   "metadata": {
    "id": "P005jCFUaCqX"
   },
   "source": [
    "## **2.2) Loại bỏ các bộ film trùng tên trong tập dữ liệu**\n",
    "---\n",
    "Thực hiện xóa các bộ film trùng tên trong tập dữ liệu chỉ giữ lại bộ film có số lượng vote cao nhất"
   ]
  },
  {
   "cell_type": "code",
   "execution_count": null,
   "metadata": {
    "colab": {
     "base_uri": "https://localhost:8080/"
    },
    "id": "CRZkxdx4aBxW",
    "outputId": "b593ba2c-0c25-48db-b893-1831adea42ee"
   },
   "outputs": [],
   "source": [
    "#Thống kê các bộ film trùng tên trong tập dữ liệu\n",
    "data['original_title'].value_counts()"
   ]
  },
  {
   "cell_type": "code",
   "execution_count": null,
   "metadata": {
    "colab": {
     "base_uri": "https://localhost:8080/",
     "height": 297
    },
    "id": "YeFpN2KbagtA",
    "outputId": "62051ff3-b1f8-4583-ebd5-34f43b577ddd"
   },
   "outputs": [],
   "source": [
    "data.loc[data['original_title']=='Hamlet']"
   ]
  },
  {
   "cell_type": "code",
   "execution_count": null,
   "metadata": {
    "colab": {
     "base_uri": "https://localhost:8080/"
    },
    "id": "K39M6JnGbr6J",
    "outputId": "52de88b3-b30b-410e-ab8c-e2e5414bd921"
   },
   "outputs": [],
   "source": [
    "#Sắp xếp film theo thuộc tính vote_count và xóa các film trùng tên, giữ lại film có lượt vote lớn hơn\n",
    "data.sort_values('vote_count',ascending=True,inplace=True)\n",
    "data.drop_duplicates(['original_title'],keep='last',inplace=True)\n",
    "data.info()"
   ]
  },
  {
   "cell_type": "code",
   "execution_count": null,
   "metadata": {
    "colab": {
     "base_uri": "https://localhost:8080/",
     "height": 80
    },
    "id": "6keRGB3wcQ_K",
    "outputId": "0ca8955a-86b8-4608-8d3d-b957a6e4a96b"
   },
   "outputs": [],
   "source": [
    "#check lại dữ liệu sau khi xử lý\n",
    "data.loc[data['original_title']=='Hamlet']"
   ]
  },
  {
   "cell_type": "code",
   "execution_count": null,
   "metadata": {
    "colab": {
     "base_uri": "https://localhost:8080/"
    },
    "id": "JUBlX7L7cV5s",
    "outputId": "1f90af49-e0a0-4b50-8fc0-0fe44b2e7194"
   },
   "outputs": [],
   "source": [
    "#Thống kê các bộ film trùng tên trong tập dữ liệu sau xử lý\n",
    "data['original_title'].value_counts()"
   ]
  },
  {
   "cell_type": "markdown",
   "metadata": {
    "id": "XvgTl-Excfxt"
   },
   "source": [
    "## **2.3) Xử lý các bộ film không có tóm tắt film**\n",
    "---"
   ]
  },
  {
   "cell_type": "code",
   "execution_count": null,
   "metadata": {
    "colab": {
     "base_uri": "https://localhost:8080/"
    },
    "id": "zIHAZtoVdGue",
    "outputId": "3de8fc8c-57a6-4495-ff0f-6c1844438847"
   },
   "outputs": [],
   "source": [
    "#Thống kê các dữ liệu trùng nhau\n",
    "data['overview'].value_counts()"
   ]
  },
  {
   "cell_type": "code",
   "execution_count": null,
   "metadata": {
    "colab": {
     "base_uri": "https://localhost:8080/",
     "height": 419
    },
    "id": "b-pzalLndG89",
    "outputId": "b768859f-9a5d-437a-8d92-f49452a5085c"
   },
   "outputs": [],
   "source": [
    "#lọc các bộ film có phần tóm tắt là: No overview found, hoặc No Overview, hoăc chuỗi rỗng, hoặc No movie overview available. \n",
    "data.loc[(data['overview']=='No overview found.')].sort_values('overview')"
   ]
  },
  {
   "cell_type": "code",
   "execution_count": null,
   "metadata": {
    "colab": {
     "base_uri": "https://localhost:8080/"
    },
    "id": "59ZEzOMPeGe0",
    "outputId": "0c507d80-0cf8-437a-e0c8-afb23cade8f3"
   },
   "outputs": [],
   "source": [
    "#Có tất cả 8 bộ film không có dữ liệu tóm tắt film\n",
    "#Xóa các bộ film này\n",
    "data = data.loc[(data['overview']!='No overview found.')]\n",
    "data.info()"
   ]
  },
  {
   "cell_type": "code",
   "execution_count": null,
   "metadata": {
    "colab": {
     "base_uri": "https://localhost:8080/"
    },
    "id": "vQUGaU2secg2",
    "outputId": "97b69da8-3b77-478d-d3be-a35c3162bce0"
   },
   "outputs": [],
   "source": [
    "#Check lại dữ liệu sau khi xử lý phần tóm tắt\n",
    "data['overview'].value_counts()"
   ]
  },
  {
   "cell_type": "code",
   "execution_count": null,
   "metadata": {
    "colab": {
     "base_uri": "https://localhost:8080/",
     "height": 142
    },
    "id": "sPbgIdI4erc6",
    "outputId": "e34feae2-9321-46e7-efda-da0f346ea35a"
   },
   "outputs": [],
   "source": [
    "data.loc[(data['overview']=='A few funny little novels about different aspects of life.')]"
   ]
  },
  {
   "cell_type": "markdown",
   "metadata": {
    "id": "s23lO1Zne3Vb"
   },
   "source": [
    "## **2.4) Lưu dữ liệu sau khi đã xử lý ra file**\n",
    "---"
   ]
  },
  {
   "cell_type": "code",
   "execution_count": null,
   "metadata": {
    "id": "FHmP8zbPe-g0"
   },
   "outputs": [],
   "source": [
    "#Lưu dữ liệu ra file Data_Movies_ok.csv\n",
    "data.reset_index(drop=True,inplace=True)\n",
    "data.sort_values(['release_date'],inplace=True)\n",
    "data.to_csv('data\\Data_Movies_ok.csv',index=None)"
   ]
  },
  {
   "cell_type": "markdown",
   "metadata": {
    "id": "kOC_WQXXVRb8"
   },
   "source": [
    "# **3) Xây dựng các hệ thống Recommender Systems**\n",
    "---\n",
    "Recommender systems có thể phân thành 3 loại như sau:\n",
    "\n",
    "* **Hệ thống đề xuất dựa trên nội dung (Content-based recommenders):** Hệ thống này sẽ gợi ý các bộ phim tương tự với bộ fim mà người dùng xem. Hệ thống này sử dụng metadata của các bộ film như: Thể loại film, đạo diễn, mô tả film, diễn viên...Ý tưởng chính đằng sau hệ thống đề xuất dựa vào nội dung đó là nếu một người đã thích/xem một bộ film nào đó, thì họ cũng sẽ thích/xem một bộ phim tương tự với bộ phim đã xem. \n",
    "\n",
    "\n",
    "* **Hệ thống lọc cộng tác (Collaborative filtering engines):** Hệ thống này cố gắng dự đoán thông qua đánh giá hoặc ưa thích mà một người dùng đã đưa ra đối với một bộ film dựa trên đánh giá và ưa thích của những người sử dụng khác. Lọc cộng tác không yêu cầu metadata giống như lọc theo nội dung. (Tìm một người xem có các thuộc tính tương đồng với người dùng này và đề xuất các bộ film theo người xem trước đây)\n",
    "\n",
    "* **Hệ thống lai (Hybrid Engine):** Kết hợp các ý tưởng của Content-based recommender và Collaborative filtering để xây dựng một hệ thống đề xuất.\n",
    "\n",
    "![alt text](https://data-flair.training/blogs/wp-content/uploads/sites/2/2019/07/data-science-movie-recommendation-project.jpg)"
   ]
  },
  {
   "cell_type": "markdown",
   "metadata": {
    "id": "PSJcbOcPZYa9"
   },
   "source": [
    "## **3.1) Simple Recommenders (Giải quyết trường hợp Cold-Start Problem)**\n",
    "---\n",
    "Lọc ra  15 bộ film (các bộ film nổi bật) trong danh sách film có trong CSDL có tỷ lệ người đánh giá và điểm đánh giá cao để đề xuất cho người dùng xem.\n",
    "\n",
    "![alt text](https://user-images.githubusercontent.com/42392773/52229643-67723e80-28db-11e9-8ef8-4ddd945a34cd.jpg)\n",
    "\n",
    "Các bộ film được tính trọng số đánh giá (Weighted Rating - WR), và dựa vào trọng số này để lọc ra danh sách các bộ film nổi bật đề xuất cho người xem.\n",
    "\n"
   ]
  },
  {
   "cell_type": "markdown",
   "metadata": {
    "id": "plUvGlLoOmCf"
   },
   "source": [
    "Tính Weighted Rating (WR):\n",
    "\n",
    "**WR = {[v/(v+m) . R] + [m/(v+m) . C]}**\n",
    "\n",
    "* v: Số lượng người vote cho bộ film đó\n",
    "* m: Số lượng người vote tối thiểu yêu cầu đối với 1 bộ film \n",
    "* R: Vote trung bình của bộ film đó\n",
    "* C: vote trung bình của tất cả các bộ film trong tập dữ liệu\n"
   ]
  },
  {
   "cell_type": "code",
   "execution_count": null,
   "metadata": {
    "colab": {
     "base_uri": "https://localhost:8080/",
     "height": 204
    },
    "id": "lxRQ-Ylh__gZ",
    "outputId": "6981a855-95ce-4f4e-db68-cab82535b85c"
   },
   "outputs": [],
   "source": [
    "#Hiển thị dữ liệu sau khi đã tiền xử lý\n",
    "data.head()"
   ]
  },
  {
   "cell_type": "code",
   "execution_count": null,
   "metadata": {
    "colab": {
     "base_uri": "https://localhost:8080/"
    },
    "id": "5c0jPElEKUKp",
    "outputId": "b1eb362e-82cc-44fd-9958-5e7fc20f73e3"
   },
   "outputs": [],
   "source": [
    "# Tính C: Đánh giá trung bình của các bộ film trong tập dữ liệu\n",
    "C = data['vote_average'].mean()\n",
    "print(C)"
   ]
  },
  {
   "cell_type": "code",
   "execution_count": null,
   "metadata": {
    "colab": {
     "base_uri": "https://localhost:8080/",
     "height": 204
    },
    "id": "rC5Ou7iqQw3t",
    "outputId": "dd147fca-af8e-45c7-ebae-251ea8c3051a"
   },
   "outputs": [],
   "source": [
    "#Số lượng người vote tối thiểu cho một bộ film phải từ 1000 người trở lên\n",
    "#Lọc các film có vote_count > m thành một DataFrame mới\n",
    "m=1000\n",
    "movies_vote_1000 = data.copy().loc[data['vote_count']>=m]\n",
    "movies_vote_1000.head()"
   ]
  },
  {
   "cell_type": "code",
   "execution_count": null,
   "metadata": {
    "colab": {
     "base_uri": "https://localhost:8080/"
    },
    "id": "_6KZMZ4FAuTb",
    "outputId": "299a727d-a15b-4907-9cfe-700991335ec8"
   },
   "outputs": [],
   "source": [
    "print('Data ban đầu:',data.shape)\n",
    "print('Data film có vote_count>1000:', movies_vote_1000.shape)"
   ]
  },
  {
   "cell_type": "code",
   "execution_count": null,
   "metadata": {
    "colab": {
     "base_uri": "https://localhost:8080/",
     "height": 297
    },
    "id": "QiDdA7pzA-cd",
    "outputId": "134b03a7-df19-437c-e6be-91280db1fcad"
   },
   "outputs": [],
   "source": [
    "#Hiển thị dữ liệu thống kê cho thuộc tính vote_average, vote_count\n",
    "movies_vote_1000.describe()"
   ]
  },
  {
   "cell_type": "markdown",
   "metadata": {
    "id": "AUwMC8O6UMZG"
   },
   "source": [
    "Tập dữ liệu ban đầu có 11 756 bộ film, sau khi lọc chỉ lấy những bộ film có tổng số lượt vote từ 1000 lần trở lên, có tất cả 1109 bộ film thỏa mãn, lưu sang Dataframe mới có tên: movie_vote_1000"
   ]
  },
  {
   "cell_type": "code",
   "execution_count": null,
   "metadata": {
    "id": "DrClAfYjRtNQ"
   },
   "outputs": [],
   "source": [
    "# Xây dựng hàm tính trọng số đánh giá WR\n",
    "def wr(x,m=m,C=C):\n",
    "    v=x['vote_count']\n",
    "    R=x['vote_average']\n",
    "    return (v/(v+m)*R) + (m/(m+v)*C)"
   ]
  },
  {
   "cell_type": "code",
   "execution_count": null,
   "metadata": {
    "colab": {
     "base_uri": "https://localhost:8080/",
     "height": 204
    },
    "id": "N7qsL-dPSi2Z",
    "outputId": "487bfa65-f475-4a22-d6fe-1cc913b13b05"
   },
   "outputs": [],
   "source": [
    "#Thêm một thuộc tính mới cho mỗi bộ film  'score', lưu giá trị Weighted_rating tương ứng\n",
    "movies_vote_1000['score'] =  movies_vote_1000.apply(wr,axis=1)\n",
    "movies_vote_1000.head()"
   ]
  },
  {
   "cell_type": "code",
   "execution_count": null,
   "metadata": {
    "colab": {
     "base_uri": "https://localhost:8080/",
     "height": 419
    },
    "id": "RODQOXNKB9Ge",
    "outputId": "9f65a5f4-2f43-4989-dfd2-413fee92353c"
   },
   "outputs": [],
   "source": [
    "#Sắp xếp lại dữ liệu theo score giảm dần và lọc ra 15 film có score cao nhất\n",
    "movies_vote_1000=movies_vote_1000.sort_values('score',ascending=False)\n",
    "movies_vote_1000"
   ]
  },
  {
   "cell_type": "code",
   "execution_count": null,
   "metadata": {
    "colab": {
     "base_uri": "https://localhost:8080/",
     "height": 531
    },
    "id": "YdykBH6hDiZH",
    "outputId": "d8ce122a-70f5-487e-cd1c-fd2d6de5295e"
   },
   "outputs": [],
   "source": [
    "#Lấy 15 film có điểm trọng số đánh giá cao nhất\n",
    "list15 = movies_vote_1000[['original_title','vote_count','vote_average','score']].head(15).copy()\n",
    "list15.reset_index(drop = True, inplace=True)\n",
    "print('DANH SÁCH 15 BỘ FILM CÓ ĐIỂM ĐÁNH GIÁ (score) CAO NHẤT')\n",
    "list15"
   ]
  },
  {
   "cell_type": "markdown",
   "metadata": {
    "id": "YMUAsplpbwCu"
   },
   "source": [
    "Sau khi tính toán trọng số đánh giá (WR), dựa vào thông số này để đưa ra danh sách các film (có trọng số đánh giá cao) gợi ý cho người xem. Ví dụ trong trường hợp ở trên chúng ta đưa ra 15 bộ phim có trọng số đánh giá cao nhất.\n",
    "\n",
    "WR phụ thuộc vào vote trung bình của bộ phim đó với lượng người vote cho bộ film. Có những bộ film có vote trung bình cao nhưng lượng người vote lại ít nên WR thấp.\n",
    "\n",
    "Một số bộ film có điểm vote trung bình cao > 8.5, nhưng số lượt vote lại rất thấp nên ko được đưa vào danh sách tính WR (<1000 lượt vote)"
   ]
  },
  {
   "cell_type": "code",
   "execution_count": null,
   "metadata": {
    "colab": {
     "base_uri": "https://localhost:8080/"
    },
    "id": "cgK3YS2ZS_dn",
    "outputId": "5655ec8e-6f77-471f-c0fd-2ec2c9d40c14"
   },
   "outputs": [],
   "source": [
    "#Số lượng các film có vote trung bình > 8.5\n",
    "data[data['vote_average']>8.5].count()"
   ]
  },
  {
   "cell_type": "code",
   "execution_count": null,
   "metadata": {
    "colab": {
     "base_uri": "https://localhost:8080/",
     "height": 419
    },
    "id": "NflFaSIMWnRY",
    "outputId": "1b39a2c0-647d-41b0-cb2e-3fa711b346d4"
   },
   "outputs": [],
   "source": [
    "#Danh sách các film có vote trung bình >8.5\n",
    "data[data['vote_average']>8.5].loc[:,['original_title','vote_average','vote_count']]"
   ]
  },
  {
   "cell_type": "markdown",
   "metadata": {
    "id": "OA7ibhaWcPE1"
   },
   "source": [
    "## **3.2) Content-Based Recommender:**\n",
    "---\n",
    "Với hệ thống đề xuất dựa trên nội dung, nhiệm vụ của chúng ta là phải tìm được một bộ film có nội dung tương đồng cao nhất với một bộ film xác định. \n",
    "\n",
    "Chúng ta sẽ phải tính toán số điểm tương đồng theo từng cặp cho tất cả các bộ film và đưa ra bộ film đề xuất có điểm tương đồng cao nhất.\n",
    "\n",
    "<img src='pic/pic2.png' width='400px'>\n"
   ]
  },
  {
   "cell_type": "markdown",
   "metadata": {
    "id": "VWDwQowCl7AE"
   },
   "source": [
    "### A) Dựa vào tóm tắt film (Overview)\n",
    "---\n",
    "Dữ liệu film có thuộc tính \"overview\" đây là thuộc tính tóm tắt nội dung của bộ film. Chúng ta sẽ dựa vào thông tin tóm tắt film để tìm bộ film có nội dung tương tự với bộ film đưa vào.\n",
    "\n",
    "* Sử dụng phương pháp vertor hóa: TF-IDF\n"
   ]
  },
  {
   "cell_type": "code",
   "execution_count": null,
   "metadata": {
    "colab": {
     "base_uri": "https://localhost:8080/"
    },
    "id": "xUqXMlDjTmCh",
    "outputId": "80a7149c-8e50-4839-c2c7-e3ccaa04e4cd"
   },
   "outputs": [],
   "source": [
    "#Dữ liệu các bộ film ban đầu\n",
    "data.info()"
   ]
  },
  {
   "cell_type": "markdown",
   "metadata": {
    "id": "szA66RumrqW1"
   },
   "source": [
    "Sử dụng TF-IDF để đánh giá độ tương đồng giữa 2 bộ film dựa vào phần tóm tắt nội dung film.\n"
   ]
  },
  {
   "cell_type": "code",
   "execution_count": null,
   "metadata": {
    "id": "9N8ON90ldtMu"
   },
   "outputs": [],
   "source": [
    "from sklearn.feature_extraction.text import TfidfVectorizer\n",
    "\n",
    "#Định nghĩa một vector TF-IDF loại bỏ tất cả các stop words trong TA\n",
    "tfidf = TfidfVectorizer(stop_words='english')"
   ]
  },
  {
   "cell_type": "code",
   "execution_count": null,
   "metadata": {
    "colab": {
     "base_uri": "https://localhost:8080/"
    },
    "id": "Sxw9Bd8Xt39_",
    "outputId": "e85ecf63-82f4-487d-b6e3-973b7cac43e0"
   },
   "outputs": [],
   "source": [
    "#Xây dựng ma trận TF-IDF\n",
    "tfidf_matrix = tfidf.fit_transform(data['overview'])\n",
    "# ma trận corpus của TFIDF\n",
    "tfidf_matrix.shape"
   ]
  },
  {
   "cell_type": "code",
   "execution_count": null,
   "metadata": {},
   "outputs": [],
   "source": [
    "tfidf_matrix"
   ]
  },
  {
   "cell_type": "code",
   "execution_count": null,
   "metadata": {},
   "outputs": [],
   "source": [
    "#Hiển thị dữ liệu ma trân thưa\n",
    "tfidf_matrix[0:10,130:140].toarray()"
   ]
  },
  {
   "cell_type": "code",
   "execution_count": null,
   "metadata": {},
   "outputs": [],
   "source": [
    "print(tfidf_matrix)"
   ]
  },
  {
   "cell_type": "markdown",
   "metadata": {
    "id": "HFZN7K8RudGM"
   },
   "source": [
    "Có tất cả 34 234 từ khác nhau (ko kể các stop words) được sử dụng để tóm tắt nội dung của 12 109 bộ film. Dựa vào tâp corpus này chúng ta sẽ thực hiện việc tính toán độ tương đồng. Có thể sử dụng các độ đo như:\n",
    "* Euclidean distance. \n",
    "* Cosine distance.\n",
    "\n",
    "Câu hỏi đặt ra là độ đo tương đồng nào là tốt nhất? ko có độ đo nào là tốt nhất nó phụ thuộc vào từng loại dữ liệu và bài toán cụ thể. \n",
    "\n",
    "Chúng ta sẽ sử dụng độ đo Cosine để tính độ tương đồng:\n",
    "\n",
    "![alt text](https://sites.temple.edu/tudsc/files/2017/03/cosine-equation.png)"
   ]
  },
  {
   "cell_type": "code",
   "execution_count": null,
   "metadata": {
    "colab": {
     "base_uri": "https://localhost:8080/"
    },
    "id": "eBuu3Be-uXpP",
    "outputId": "f3cb9886-7c6e-4a67-816c-0f5bf7ffd77f"
   },
   "outputs": [],
   "source": [
    "from sklearn.metrics.pairwise import linear_kernel\n",
    "\n",
    "#Tính độ tương tự cosine giữa các bộ film với nhau dựa vào tóm tắt film\n",
    "cosine_sim = linear_kernel(tfidf_matrix,tfidf_matrix)\n",
    "print(cosine_sim.shape)\n",
    "print(cosine_sim)"
   ]
  },
  {
   "cell_type": "code",
   "execution_count": null,
   "metadata": {
    "colab": {
     "base_uri": "https://localhost:8080/",
     "height": 504
    },
    "id": "IZfFoAc6y9Od",
    "outputId": "d5f97c34-0343-484c-c061-9b159c6a967e"
   },
   "outputs": [],
   "source": [
    "import matplotlib.pyplot as plt\n",
    "import numpy as np\n",
    "import seaborn as sns\n",
    "sns.set(rc={'figure.figsize':(11.7,8.27)})\n",
    "ax = sns.heatmap(cosine_sim[0:100,0:100], linewidth=0.5,cmap='hot' )\n",
    "#plt.show()\n",
    "\n",
    "#plt.imshow(cosine_sim[0:100,0:100], cmap='hot', interpolation='nearest')\n",
    "plt.show()"
   ]
  },
  {
   "cell_type": "code",
   "execution_count": null,
   "metadata": {
    "colab": {
     "base_uri": "https://localhost:8080/"
    },
    "id": "7j5m4H4rYBwQ",
    "outputId": "177ab8da-5049-4279-d9eb-4210614596c9"
   },
   "outputs": [],
   "source": [
    "#Lấy danh sách tên các bộ film\n",
    "indices = pd.Series(data.index,index=data['original_title'])\n",
    "indices"
   ]
  },
  {
   "cell_type": "markdown",
   "metadata": {
    "id": "4O1XlvUqa54b"
   },
   "source": [
    "Xây dựng một hàm đưa vào tên của một bộ film sau đó dựa vào ma trận cosine_sim để xác định 15 bộ film có độ tương đồng cao theo thứ tự giảm dần.\n",
    "\n",
    "* input: title, cosine_sim\n",
    "* output: list 15 film similarity\n"
   ]
  },
  {
   "cell_type": "code",
   "execution_count": null,
   "metadata": {
    "id": "fBWQxp0oaa1J"
   },
   "outputs": [],
   "source": [
    "def get_recommend_movies(title,cosine_sim=cosine_sim):\n",
    "    #Lấy index của bộ film theo tiêu đề đưa vào\n",
    "    idx=indices[title]\n",
    "    #Lấy điểm tương đồng theo cặp của tất cả các movies theo tiêu đề bộ film đưa vào\n",
    "    sim_scores = list(enumerate(cosine_sim[idx]))\n",
    "    #Sắp xếp các bộ film dựa theo điểm tương đồng\n",
    "    sim_scores = sorted(sim_scores, key=lambda x: x[1], reverse=True)\n",
    "    #Lấy điểm của 15 bộ film có độ tương đồng cao nhất\n",
    "    sim_scores_15 = sim_scores[1:16]\n",
    "    #Lấy index tương ứng với 15 bộ film này\n",
    "    movies_index = [i[0] for i in sim_scores_15]\n",
    "    #trả ra tiêu đề của 15 bộ film\n",
    "    return data[['original_title','overview']].iloc[movies_index]"
   ]
  },
  {
   "cell_type": "code",
   "execution_count": null,
   "metadata": {
    "colab": {
     "base_uri": "https://localhost:8080/"
    },
    "id": "0K44PBpbeW1v",
    "outputId": "c2299ec2-9509-4138-fba7-0898ce3c8e33"
   },
   "outputs": [],
   "source": [
    "#Thử đề xuất với tên bộ film bất kỳ\n",
    "#1. Bộ film: Batman Forever\n",
    "get_recommend_movies('Batman Forever')"
   ]
  },
  {
   "cell_type": "code",
   "execution_count": null,
   "metadata": {
    "colab": {
     "base_uri": "https://localhost:8080/"
    },
    "id": "bQYcLV2fdwgd",
    "outputId": "2a4cff22-1d7b-491f-e2d1-7536017a6fa1"
   },
   "outputs": [],
   "source": [
    "#Thử đề xuất với tên bộ film bất kỳ\n",
    "#2. Bộ film: The Shawshank Redemption\n",
    "get_recommend_movies('The Shawshank Redemption')"
   ]
  },
  {
   "cell_type": "code",
   "execution_count": null,
   "metadata": {
    "colab": {
     "base_uri": "https://localhost:8080/"
    },
    "id": "ziTODbQre1qc",
    "outputId": "dc2a9113-8396-4aa0-f22c-956f9b175904"
   },
   "outputs": [],
   "source": [
    "#Thử đề xuất với tên bộ film bất kỳ\n",
    "#3. Bộ film: Star Wars\n",
    "get_recommend_movies('Star Wars')"
   ]
  },
  {
   "cell_type": "code",
   "execution_count": null,
   "metadata": {
    "id": "4syh5D1VrU8R"
   },
   "outputs": [],
   "source": []
  }
 ],
 "metadata": {
  "accelerator": "TPU",
  "colab": {
   "collapsed_sections": [],
   "machine_shape": "hm",
   "name": "Project6_RecommenderSystem_Movie.ipynb",
   "provenance": [],
   "toc_visible": true
  },
  "kernelspec": {
   "display_name": "Python 3",
   "language": "python",
   "name": "python3"
  },
  "language_info": {
   "codemirror_mode": {
    "name": "ipython",
    "version": 3
   },
   "file_extension": ".py",
   "mimetype": "text/x-python",
   "name": "python",
   "nbconvert_exporter": "python",
   "pygments_lexer": "ipython3",
   "version": "3.8.8"
  }
 },
 "nbformat": 4,
 "nbformat_minor": 1
}
